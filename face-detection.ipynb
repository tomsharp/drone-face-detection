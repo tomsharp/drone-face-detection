{
 "cells": [
  {
   "cell_type": "code",
   "execution_count": 1,
   "metadata": {},
   "outputs": [],
   "source": [
    "import tensorflow as tf\n",
    "import numpy as np\n",
    "import cv2\n",
    "import pathlib"
   ]
  },
  {
   "cell_type": "code",
   "execution_count": 2,
   "metadata": {},
   "outputs": [],
   "source": [
    "def draw_rect(image, box):\n",
    "    y_min = int(max(1, (box[0] * 300)))\n",
    "    x_min = int(max(1, (box[1] * 300)))\n",
    "    y_max = int(min(300, (box[2] * 300)))\n",
    "    x_max = int(min(300, (box[3] * 300)))\n",
    "    \n",
    "    # draw a rectangle on the image\n",
    "    cv2.rectangle(image, (x_min, y_min), (x_max, y_max), (255, 255, 255), 2)"
   ]
  },
  {
   "cell_type": "code",
   "execution_count": 3,
   "metadata": {},
   "outputs": [],
   "source": [
    "# Load the TFLite model and allocate tensors.\n",
    "interpreter = tf.lite.Interpreter(model_path=\"model/detect.tflite\")\n",
    "interpreter.allocate_tensors()\n",
    "\n",
    "# Get input and output tensors.\n",
    "input_details = interpreter.get_input_details()\n",
    "output_details = interpreter.get_output_details()\n",
    "\n",
    "interpreter.allocate_tensors()"
   ]
  },
  {
   "cell_type": "code",
   "execution_count": 4,
   "metadata": {},
   "outputs": [],
   "source": [
    "# # input details\n",
    "# print(input_details)\n",
    "# # output details\n",
    "# print(output_details)"
   ]
  },
  {
   "cell_type": "code",
   "execution_count": 5,
   "metadata": {},
   "outputs": [],
   "source": [
    "threshold = 0.75"
   ]
  },
  {
   "cell_type": "code",
   "execution_count": null,
   "metadata": {},
   "outputs": [],
   "source": [
    "# testing\n",
    "import numpy as np\n",
    "import cv2\n",
    "\n",
    "cap = cv2.VideoCapture(0)\n",
    "\n",
    "while(True):\n",
    "    # Capture frame-by-frame\n",
    "    ret, img = cap.read()\n",
    "    \n",
    "    # resize\n",
    "    img = cv2.resize(img, (300, 300))\n",
    "    \n",
    "    # detection\n",
    "    interpreter.set_tensor(input_details[0]['index'], [img])\n",
    "    interpreter.invoke()\n",
    "    \n",
    "    # output details\n",
    "    rects = interpreter.get_tensor(output_details[0]['index'])[0]\n",
    "    classes = interpreter.get_tensor(output_details[1]['index'])[0]\n",
    "    scores = interpreter.get_tensor(output_details[2]['index'])[0]\n",
    "    count = int(interpreter.get_tensor(output_details[3]['index'])[0])\n",
    "    \n",
    "    # store results\n",
    "    # @TODO - can be used to display labels later\n",
    "    results = [{'bounding_box': rects[i],\n",
    "                'class_id': classes[i],\n",
    "                'score': scores[i]} \\\n",
    "               for i in range(count) \\\n",
    "               if scores[i] >= threshold]\n",
    "    \n",
    "    # if score is high enough, draw rectangle\n",
    "    for index, score in enumerate(scores):\n",
    "        if score > threshold:\n",
    "            draw_rect(img, rects[index])\n",
    "\n",
    "    # Display the resulting frame\n",
    "    cv2.imshow('frame', img)\n",
    "    if cv2.waitKey(1) & 0xFF == ord('q'):\n",
    "        break\n",
    "\n",
    "# When everything done, release the capture\n",
    "cap.release()\n",
    "cv2.destroyAllWindows()"
   ]
  }
 ],
 "metadata": {
  "kernelspec": {
   "display_name": "Python 3",
   "language": "python",
   "name": "python3"
  },
  "language_info": {
   "codemirror_mode": {
    "name": "ipython",
    "version": 3
   },
   "file_extension": ".py",
   "mimetype": "text/x-python",
   "name": "python",
   "nbconvert_exporter": "python",
   "pygments_lexer": "ipython3",
   "version": "3.7.4"
  }
 },
 "nbformat": 4,
 "nbformat_minor": 2
}
